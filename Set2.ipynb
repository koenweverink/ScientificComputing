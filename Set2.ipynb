{
 "cells": [
  {
   "cell_type": "code",
   "execution_count": 45,
   "metadata": {},
   "outputs": [],
   "source": [
    "import numpy as np\n",
    "import matplotlib.pyplot as plt"
   ]
  },
  {
   "cell_type": "code",
   "execution_count": 56,
   "metadata": {},
   "outputs": [],
   "source": [
    "# Parameters\n",
    "size = 100  # Size of the domain\n",
    "seed_position = (size - 1, size // 2)  # Seed at the bottom center\n",
    "eta = 10  # Shape parameter\n",
    "iterations = 1000  # Number of growth steps\n",
    "omega = 1.9  # Over-relaxation parameter\n",
    "epsilon = 1e-5  # epsilon for SOR convergence\n",
    "\n",
    "# Initialize domain\n",
    "domain = np.zeros((size, size))\n",
    "domain[seed_position] = 1  # Place the initial seed\n",
    "\n",
    "# Initialize the nutrient concentration grid with highest concentration at the top\n",
    "concentration = np.linspace(1, 0, size).reshape(-1, 1)  # Gradient from top (1) to bottom (0)\n",
    "concentration = np.tile(concentration, (1, size))  # Extend the gradient horizontally\n"
   ]
  },
  {
   "cell_type": "code",
   "execution_count": 47,
   "metadata": {},
   "outputs": [],
   "source": [
    "# Function to find growth candidates\n",
    "def find_growth_candidates(domain):\n",
    "    candidates = []\n",
    "    for i in range(1, domain.shape[0] - 1):\n",
    "        for j in range(1, domain.shape[1] - 1):\n",
    "            if domain[i, j] == 0 and np.any(domain[i-1:i+2, j-1:j+2] == 1):\n",
    "                candidates.append((i, j))\n",
    "    return candidates"
   ]
  },
  {
   "cell_type": "code",
   "execution_count": 48,
   "metadata": {},
   "outputs": [],
   "source": [
    "# SOR method to solve the Laplace equation\n",
    "def solve_laplace(concentration, domain, omega, epsilon):\n",
    "    diff = np.inf\n",
    "    while diff > epsilon:\n",
    "        old_concentration = concentration.copy()\n",
    "        for i in range(1, size - 1):\n",
    "            for j in range(1, size - 1):\n",
    "                if domain[i, j] == 0:  # Update only if not part of the cluster\n",
    "                    concentration[i, j] = ((1 - omega) * concentration[i, j] +\n",
    "                                           omega * 0.25 * (concentration[i+1, j] + concentration[i-1, j] +\n",
    "                                                           concentration[i, j+1] + concentration[i, j-1]))\n",
    "        diff = np.max(np.abs(concentration - old_concentration))\n",
    "    return concentration"
   ]
  },
  {
   "cell_type": "code",
   "execution_count": 49,
   "metadata": {},
   "outputs": [],
   "source": [
    "# Growth function\n",
    "def grow(domain, concentration, omega, eta):\n",
    "    concentration = solve_laplace(concentration, domain, omega, epsilon)\n",
    "    candidates = find_growth_candidates(domain)\n",
    "    if not candidates:\n",
    "        return domain, concentration  # No more growth possible\n",
    "\n",
    "    probabilities = [concentration[i, j] ** eta for i, j in candidates]\n",
    "    probabilities /= np.sum(probabilities)  # Normalize to make it a probability distribution\n",
    "\n",
    "\n",
    "    # Select and add new growth site\n",
    "    growth_site = candidates[np.random.choice(len(candidates), p=probabilities)]\n",
    "    domain[growth_site] = 1\n",
    "    return domain, concentration"
   ]
  },
  {
   "cell_type": "code",
   "execution_count": 50,
   "metadata": {},
   "outputs": [],
   "source": [
    "def sim(domain, concentration, omega, iterations):\n",
    "    for _ in range(iterations):\n",
    "        domain, concentration = grow(domain, concentration, omega, eta)\n",
    "    return domain, concentration"
   ]
  },
  {
   "cell_type": "code",
   "execution_count": 57,
   "metadata": {},
   "outputs": [],
   "source": [
    "domain, concentration = sim(domain, concentration, omega, iterations)"
   ]
  },
  {
   "cell_type": "code",
   "execution_count": 58,
   "metadata": {},
   "outputs": [
    {
     "data": {
      "image/png": "[encoded data removed]",
      "text/plain": [
       "<Figure size 640x480 with 2 Axes>"
      ]
     },
     "metadata": {},
     "output_type": "display_data"
    }
   ],
   "source": [
    "fig, ax = plt.subplots()\n",
    "cmap = ax.imshow(concentration, cmap='hot', interpolation='nearest')\n",
    "fig.colorbar(cmap, ax=ax, fraction=0.046, pad=0.04)\n",
    "cluster_overlay = np.ma.masked_where(domain == 0, domain)\n",
    "ax.imshow(cluster_overlay, cmap='Greys', interpolation='nearest')\n",
    "ax.set_title('DLA Cluster with Nutrient Concentration Gradient')\n",
    "plt.show()"
   ]
  }
 ],
 "metadata": {
  "kernelspec": {
   "display_name": "Python 3",
   "language": "python",
   "name": "python3"
  },
  "language_info": {
   "codemirror_mode": {
    "name": "ipython",
    "version": 3
   },
   "file_extension": ".py",
   "mimetype": "text/x-python",
   "name": "python",
   "nbconvert_exporter": "python",
   "pygments_lexer": "ipython3",
   "version": "3.10.6"
  }
 },
 "nbformat": 4,
 "nbformat_minor": 2
}
