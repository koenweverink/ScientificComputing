{
 "cells": [
  {
   "cell_type": "code",
   "execution_count": 21,
   "metadata": {},
   "outputs": [],
   "source": [
    "import numpy as np\n",
    "import matplotlib.pyplot as plt\n",
    "from numba import jit, types\n",
    "from numba.typed import List\n",
    "import numpy.random as npr"
   ]
  },
  {
   "cell_type": "code",
   "execution_count": 22,
   "metadata": {},
   "outputs": [],
   "source": [
    "# Parameters\n",
    "size = 100  # Size of the domain\n",
    "seed_position = (size - 1, size // 2)  # Seed at the bottom center\n",
    "eta = 10  # Shape parameter\n",
    "iterations = 1000  # Number of growth steps\n",
    "omega = 1.9  # Over-relaxation parameter\n",
    "epsilon = 1e-5  # epsilon for SOR convergence\n",
    "\n",
    "# Initialize domain\n",
    "domain = np.zeros((size, size), dtype=np.float32)  # Ensure dtype is specified\n",
    "domain[seed_position] = 1  # Place the initial seed\n",
    "\n",
    "# Initialize the nutrient concentration grid with highest concentration at the top\n",
    "concentration = np.linspace(1, 0, size, dtype=np.float32).reshape(-1, 1)  # Ensure dtype is specified\n",
    "concentration = np.tile(concentration, (1, size))  # Extend the gradient horizontally\n",
    "\n"
   ]
  },
  {
   "cell_type": "code",
   "execution_count": 23,
   "metadata": {},
   "outputs": [],
   "source": [
    "@jit(nopython=True)\n",
    "def find_growth_candidates(domain):\n",
    "    candidates = List()\n",
    "    for i in range(1, domain.shape[0] - 1):\n",
    "        for j in range(1, domain.shape[1] - 1):\n",
    "            # Check only horizontal and vertical neighbors\n",
    "            if domain[i, j] == 0 and (domain[i-1, j] == 1 or domain[i+1, j] == 1 or domain[i, j-1] == 1 or domain[i, j+1] == 1):\n",
    "                candidates.append((i, j))\n",
    "    return candidates"
   ]
  },
  {
   "cell_type": "code",
   "execution_count": 24,
   "metadata": {},
   "outputs": [],
   "source": [
    "# SOR method to solve the Laplace equation\n",
    "@jit(nopython=True)\n",
    "def solve_laplace(concentration, domain, omega, epsilon):\n",
    "    theta = np.float32(1e20)  \n",
    "\n",
    "    height, width = concentration.shape  \n",
    "    while theta > epsilon:\n",
    "        max_change = np.float32(0)\n",
    "        for i in range(1, height - 1):\n",
    "            for j in range(1, width - 1):\n",
    "                if domain[i, j] == 0:  # Update only if not part of the cluster\n",
    "                    old_value = concentration[i, j]\n",
    "                    # Compute the new concentration value\n",
    "                    concentration[i, j] = (omega / 4) * (concentration[i+1, j] + concentration[i-1, j] + concentration[i, j+1] + concentration[i, j-1]) +  (1 - omega) * old_value\n",
    "                    # Update the maximum change if necessary\n",
    "                    max_change = max(max_change, np.abs(concentration[i, j] - old_value))\n",
    "                else:\n",
    "                    concentration[i, j] = 0  # Explicitly set concentration to zero if part of the cluster\n",
    "\n",
    "        # Boundary condition: Wrap around horizontally\n",
    "        concentration[:, -1] = concentration[:, 1]  \n",
    "        # Update theta for the while-loop condition\n",
    "        theta = max_change\n",
    "    return concentration\n"
   ]
  },
  {
   "cell_type": "code",
   "execution_count": 25,
   "metadata": {},
   "outputs": [],
   "source": [
    "# Growth function\n",
    "# @jit(nopython=True)\n",
    "def grow(domain, concentration, omega, eta):\n",
    "    concentration = solve_laplace(concentration, domain, omega, epsilon)\n",
    "    candidates = find_growth_candidates(domain)\n",
    "    if not candidates:\n",
    "        return domain, concentration  # No more growth possible\n",
    "    \n",
    "    # Check if nutrient concentration \n",
    "    has_nutrients = np.any(concentration[c[0], c[1]] > 0.1 for c in candidates)\n",
    "    \n",
    "    if not has_nutrients:\n",
    "        return domain, concentration  # Stop growth due to lack of nutrients\n",
    "\n",
    "\n",
    "    probabilities = [concentration[i, j] ** eta for i, j in candidates]\n",
    "    probabilities /= np.sum(probabilities)\n",
    "\n",
    "    # Ensure all probabilities are non-negative\n",
    "    probabilities = [max(prob, 0) for prob in probabilities]\n",
    "\n",
    "    # Normalize the probabilities to ensure they sum to 1\n",
    "    total_probability = np.sum(probabilities)\n",
    "    if total_probability > 0:  # Prevent division by zero\n",
    "        probabilities /= total_probability\n",
    "    else:  # In case all probabilities are zero, distribute chances equally among candidates\n",
    "        probabilities = [1 / len(candidates)] * len(candidates)\n",
    "\n",
    "    # Select and add new growth site\n",
    "    growth_site = candidates[np.random.choice(len(candidates), p=probabilities)]\n",
    "    domain[growth_site] = 1\n",
    "    return domain, concentration"
   ]
  },
  {
   "cell_type": "code",
   "execution_count": 26,
   "metadata": {},
   "outputs": [],
   "source": [
    "# @jit(nopython=True)\n",
    "def sim(domain, concentration, omega, iterations, eta):\n",
    "    iter_count = 0\n",
    "    for _ in range(iterations):\n",
    "        domain, concentration = grow(domain, concentration, omega, eta)\n",
    "    return domain, concentration"
   ]
  },
  {
   "cell_type": "code",
   "execution_count": 27,
   "metadata": {},
   "outputs": [],
   "source": [
    "# @jit(nopython=True)\n",
    "def num_seeds(domain):\n",
    "    return np.sum(domain)"
   ]
  },
  {
   "cell_type": "code",
   "execution_count": 30,
   "metadata": {},
   "outputs": [
    {
     "name": "stdout",
     "output_type": "stream",
     "text": [
      "Number of seeds: 1001.0\n"
     ]
    }
   ],
   "source": [
    "size = 100  # Size of the domain\n",
    "seed_position = (size - 1, size // 2)  # Seed at the bottom center\n",
    "iterations = 1000  # Number of growth steps\n",
    "omega = 1.85  # Over-relaxation parameter\n",
    "epsilon = 1e-5  # epsilon for SOR convergence\n",
    "\n",
    "# Initialize domain\n",
    "domain = np.zeros((size, size))\n",
    "domain[seed_position] = 1  # Place the initial seed\n",
    "\n",
    "# Initialize the nutrient concentration grid with highest concentration at the top\n",
    "concentration = np.linspace(1, 0, size).reshape(-1, 1)  # Gradient from top (1) to bottom (0)\n",
    "concentration = np.tile(concentration, (1, size))  # Extend the gradient horizontally\n",
    "\n",
    "eta = 1\n",
    "domain, concentration = sim(domain, concentration, omega, iterations, eta)\n",
    "print(f\"Number of seeds: {num_seeds(domain)}\")"
   ]
  },
  {
   "cell_type": "code",
   "execution_count": 31,
   "metadata": {},
   "outputs": [
    {
     "data": {
      "image/png": "[encoded data removed]",
      "text/plain": [
       "<Figure size 640x480 with 2 Axes>"
      ]
     },
     "metadata": {},
     "output_type": "display_data"
    }
   ],
   "source": [
    "fig, ax = plt.subplots()\n",
    "cmap = ax.imshow(concentration, cmap='hot', interpolation='nearest')\n",
    "fig.colorbar(cmap, ax=ax, fraction=0.046, pad=0.04)\n",
    "cluster_overlay = np.ma.masked_where(domain == 0, domain)\n",
    "ax.imshow(cluster_overlay, cmap='Greys', interpolation='nearest')\n",
    "ax.set_title(f'DLA Cluster with Nutrient Concentration \\nGradient $\\eta$ = {eta} and \\nnumber of iterations = ')\n",
    "plt.show()"
   ]
  },
  {
   "cell_type": "code",
   "execution_count": 40,
   "metadata": {},
   "outputs": [
    {
     "name": "stderr",
     "output_type": "stream",
     "text": [
      "<>:29: SyntaxWarning: invalid escape sequence '\\e'\n",
      "<>:36: SyntaxWarning: invalid escape sequence '\\e'\n",
      "<>:29: SyntaxWarning: invalid escape sequence '\\e'\n",
      "<>:36: SyntaxWarning: invalid escape sequence '\\e'\n",
      "C:\\Users\\sacha\\AppData\\Local\\Temp\\ipykernel_32772\\2738211478.py:29: SyntaxWarning: invalid escape sequence '\\e'\n",
      "  ax.set_xlabel(f\"$\\eta$ = {eta}\", fontsize=14)\n",
      "C:\\Users\\sacha\\AppData\\Local\\Temp\\ipykernel_32772\\2738211478.py:36: SyntaxWarning: invalid escape sequence '\\e'\n",
      "  axes[2].set_title(f'DLA Cluster with a deviating Nutrient Concentration Gradient ($\\eta$)', fontsize=16, loc='center')\n"
     ]
    }
   ],
   "source": [
    "eta_list = np.linspace(0, 2, 5)\n",
    "\n",
    "# Plotting\n",
    "fig, axes = plt.subplots(1, len(eta_list), figsize=(15, 3))\n",
    "\n",
    "for i, eta in enumerate(eta_list):\n",
    "    # Parameters\n",
    "    size = 100  # Size of the domain\n",
    "    seed_position = (size - 1, size // 2)  # Seed at the bottom center\n",
    "    iterations = 1000  # Number of growth steps\n",
    "    omega = 1.9  # Over-relaxation parameter\n",
    "    epsilon = 1e-5  # epsilon for SOR convergence\n",
    "\n",
    "    # Initialize domain\n",
    "    domain = np.zeros((size, size))\n",
    "    domain[seed_position] = 1  # Place the initial seed\n",
    "\n",
    "    # Initialize the nutrient concentration grid with highest concentration at the top\n",
    "    concentration = np.linspace(1, 0, size).reshape(-1, 1)  # Gradient from top (1) to bottom (0)\n",
    "    concentration = np.tile(concentration, (1, size))  # Extend the gradient horizontally\n",
    "\n",
    "    ax = axes[i]\n",
    "    domain, concentration, count = sim(domain, concentration, omega, iterations, eta)\n",
    "    cmap = ax.imshow(concentration, cmap='hot', interpolation='nearest')\n",
    "    cluster_overlay = np.ma.masked_where(domain == 0, domain)\n",
    "    im = ax.imshow(cluster_overlay, cmap = 'coolwarm', interpolation='nearest')\n",
    "    ax.set_xticks([])\n",
    "    ax.set_yticks([])\n",
    "    ax.set_xlabel(f\"$\\eta$ = {eta}\", fontsize=14)\n",
    "    print(eta)\n",
    "\n",
    "# Add colorbar\n",
    "cbar_ax = fig.add_axes([0.92, 0.15, 0.02, 0.7])  # [left, bottom, width, height]\n",
    "cbar = fig.colorbar(cmap, cax=cbar_ax)\n",
    "cbar.set_label('Concentration', fontsize=14)\n",
    "\n",
    "axes[2].set_title(f'DLA Cluster with a deviating Nutrient Concentration Gradient ($\\eta$)', fontsize=16, loc='center')\n",
    "\n",
    "plt.tight_layout()\n",
    "plt.show()\n"
   ]
  },
  {
   "cell_type": "code",
   "execution_count": 39,
   "metadata": {},
   "outputs": [
    {
     "name": "stderr",
     "output_type": "stream",
     "text": [
      "<>:23: SyntaxWarning: invalid escape sequence '\\e'\n",
      "<>:28: SyntaxWarning: invalid escape sequence '\\o'\n",
      "<>:30: SyntaxWarning: invalid escape sequence '\\o'\n",
      "<>:23: SyntaxWarning: invalid escape sequence '\\e'\n",
      "<>:28: SyntaxWarning: invalid escape sequence '\\o'\n",
      "<>:30: SyntaxWarning: invalid escape sequence '\\o'\n",
      "C:\\Users\\sacha\\AppData\\Local\\Temp\\ipykernel_32772\\886851959.py:23: SyntaxWarning: invalid escape sequence '\\e'\n",
      "  plt.plot(np.linspace(1.7, 1.99, len(n_iter)), n_iter, label = f\"$\\eta$ = {eta}\")\n",
      "C:\\Users\\sacha\\AppData\\Local\\Temp\\ipykernel_32772\\886851959.py:28: SyntaxWarning: invalid escape sequence '\\o'\n",
      "  plt.xlabel('Omega $(\\omega)$')\n",
      "C:\\Users\\sacha\\AppData\\Local\\Temp\\ipykernel_32772\\886851959.py:30: SyntaxWarning: invalid escape sequence '\\o'\n",
      "  plt.title('Number of iterations needed to form a DLA Cluster \\nfor Optimal $\\omega$ by varying $\\eta$')\n"
     ]
    },
    {
     "name": "stdout",
     "output_type": "stream",
     "text": [
      "1.7\n",
      "1.75\n"
     ]
    },
    {
     "name": "stderr",
     "output_type": "stream",
     "text": [
      "C:\\Users\\sacha\\AppData\\Local\\Temp\\ipykernel_32772\\886851959.py:23: SyntaxWarning: invalid escape sequence '\\e'\n",
      "  plt.plot(np.linspace(1.7, 1.99, len(n_iter)), n_iter, label = f\"$\\eta$ = {eta}\")\n",
      "C:\\Users\\sacha\\AppData\\Local\\Temp\\ipykernel_32772\\886851959.py:28: SyntaxWarning: invalid escape sequence '\\o'\n",
      "  plt.xlabel('Omega $(\\omega)$')\n",
      "C:\\Users\\sacha\\AppData\\Local\\Temp\\ipykernel_32772\\886851959.py:30: SyntaxWarning: invalid escape sequence '\\o'\n",
      "  plt.title('Number of iterations needed to form a DLA Cluster \\nfor Optimal $\\omega$ by varying $\\eta$')\n"
     ]
    },
    {
     "ename": "KeyboardInterrupt",
     "evalue": "",
     "output_type": "error",
     "traceback": [
      "\u001b[1;31m---------------------------------------------------------------------------\u001b[0m",
      "\u001b[1;31mKeyboardInterrupt\u001b[0m                         Traceback (most recent call last)",
      "Cell \u001b[1;32mIn[39], line 19\u001b[0m\n\u001b[0;32m     16\u001b[0m concentration \u001b[38;5;241m=\u001b[39m np\u001b[38;5;241m.\u001b[39mlinspace(\u001b[38;5;241m1\u001b[39m, \u001b[38;5;241m0\u001b[39m, size)\u001b[38;5;241m.\u001b[39mreshape(\u001b[38;5;241m-\u001b[39m\u001b[38;5;241m1\u001b[39m, \u001b[38;5;241m1\u001b[39m)  \u001b[38;5;66;03m# Gradient from top (1) to bottom (0)\u001b[39;00m\n\u001b[0;32m     17\u001b[0m concentration \u001b[38;5;241m=\u001b[39m np\u001b[38;5;241m.\u001b[39mtile(concentration, (\u001b[38;5;241m1\u001b[39m, size))  \u001b[38;5;66;03m# Extend the gradient horizontally\u001b[39;00m\n\u001b[1;32m---> 19\u001b[0m domain, concentration, count \u001b[38;5;241m=\u001b[39m \u001b[43msim\u001b[49m\u001b[43m(\u001b[49m\u001b[43mdomain\u001b[49m\u001b[43m,\u001b[49m\u001b[43m \u001b[49m\u001b[43mconcentration\u001b[49m\u001b[43m,\u001b[49m\u001b[43m \u001b[49m\u001b[43momega\u001b[49m\u001b[43m,\u001b[49m\u001b[43m \u001b[49m\u001b[43miterations\u001b[49m\u001b[43m,\u001b[49m\u001b[43m \u001b[49m\u001b[43meta\u001b[49m\u001b[43m)\u001b[49m\n\u001b[0;32m     20\u001b[0m n_iter\u001b[38;5;241m.\u001b[39mappend(count)\n\u001b[0;32m     21\u001b[0m \u001b[38;5;28mprint\u001b[39m(omega)\n",
      "Cell \u001b[1;32mIn[35], line 4\u001b[0m, in \u001b[0;36msim\u001b[1;34m(domain, concentration, omega, iterations, eta)\u001b[0m\n\u001b[0;32m      2\u001b[0m iter_count \u001b[38;5;241m=\u001b[39m \u001b[38;5;241m0\u001b[39m\n\u001b[0;32m      3\u001b[0m \u001b[38;5;28;01mfor\u001b[39;00m _ \u001b[38;5;129;01min\u001b[39;00m \u001b[38;5;28mrange\u001b[39m(iterations):\n\u001b[1;32m----> 4\u001b[0m     domain, concentration, count \u001b[38;5;241m=\u001b[39m \u001b[43mgrow\u001b[49m\u001b[43m(\u001b[49m\u001b[43mdomain\u001b[49m\u001b[43m,\u001b[49m\u001b[43m \u001b[49m\u001b[43mconcentration\u001b[49m\u001b[43m,\u001b[49m\u001b[43m \u001b[49m\u001b[43momega\u001b[49m\u001b[43m,\u001b[49m\u001b[43m \u001b[49m\u001b[43meta\u001b[49m\u001b[43m)\u001b[49m\n\u001b[0;32m      5\u001b[0m     iter_count \u001b[38;5;241m+\u001b[39m\u001b[38;5;241m=\u001b[39m count\n\u001b[0;32m      6\u001b[0m \u001b[38;5;28;01mreturn\u001b[39;00m domain, concentration, iter_count\n",
      "Cell \u001b[1;32mIn[34], line 4\u001b[0m, in \u001b[0;36mgrow\u001b[1;34m(domain, concentration, omega, eta)\u001b[0m\n\u001b[0;32m      2\u001b[0m \u001b[38;5;28;01mdef\u001b[39;00m \u001b[38;5;21mgrow\u001b[39m(domain, concentration, omega, eta):\n\u001b[0;32m      3\u001b[0m     concentration, count \u001b[38;5;241m=\u001b[39m solve_laplace(concentration, domain, omega, epsilon)\n\u001b[1;32m----> 4\u001b[0m     candidates \u001b[38;5;241m=\u001b[39m \u001b[43mfind_growth_candidates\u001b[49m\u001b[43m(\u001b[49m\u001b[43mdomain\u001b[49m\u001b[43m)\u001b[49m\n\u001b[0;32m      5\u001b[0m     \u001b[38;5;28;01mif\u001b[39;00m \u001b[38;5;129;01mnot\u001b[39;00m candidates:\n\u001b[0;32m      6\u001b[0m         \u001b[38;5;28;01mreturn\u001b[39;00m domain, concentration  \u001b[38;5;66;03m# No more growth possible\u001b[39;00m\n",
      "Cell \u001b[1;32mIn[32], line 6\u001b[0m, in \u001b[0;36mfind_growth_candidates\u001b[1;34m(domain)\u001b[0m\n\u001b[0;32m      4\u001b[0m \u001b[38;5;28;01mfor\u001b[39;00m i \u001b[38;5;129;01min\u001b[39;00m \u001b[38;5;28mrange\u001b[39m(\u001b[38;5;241m1\u001b[39m, domain\u001b[38;5;241m.\u001b[39mshape[\u001b[38;5;241m0\u001b[39m] \u001b[38;5;241m-\u001b[39m \u001b[38;5;241m1\u001b[39m):\n\u001b[0;32m      5\u001b[0m     \u001b[38;5;28;01mfor\u001b[39;00m j \u001b[38;5;129;01min\u001b[39;00m \u001b[38;5;28mrange\u001b[39m(\u001b[38;5;241m1\u001b[39m, domain\u001b[38;5;241m.\u001b[39mshape[\u001b[38;5;241m1\u001b[39m] \u001b[38;5;241m-\u001b[39m \u001b[38;5;241m1\u001b[39m):\n\u001b[1;32m----> 6\u001b[0m         \u001b[38;5;28;01mif\u001b[39;00m domain[i, j] \u001b[38;5;241m==\u001b[39m \u001b[38;5;241m0\u001b[39m \u001b[38;5;129;01mand\u001b[39;00m \u001b[43mnp\u001b[49m\u001b[38;5;241;43m.\u001b[39;49m\u001b[43many\u001b[49m\u001b[43m(\u001b[49m\u001b[43mdomain\u001b[49m\u001b[43m[\u001b[49m\u001b[43mi\u001b[49m\u001b[38;5;241;43m-\u001b[39;49m\u001b[38;5;241;43m1\u001b[39;49m\u001b[43m:\u001b[49m\u001b[43mi\u001b[49m\u001b[38;5;241;43m+\u001b[39;49m\u001b[38;5;241;43m2\u001b[39;49m\u001b[43m,\u001b[49m\u001b[43m \u001b[49m\u001b[43mj\u001b[49m\u001b[38;5;241;43m-\u001b[39;49m\u001b[38;5;241;43m1\u001b[39;49m\u001b[43m:\u001b[49m\u001b[43mj\u001b[49m\u001b[38;5;241;43m+\u001b[39;49m\u001b[38;5;241;43m2\u001b[39;49m\u001b[43m]\u001b[49m\u001b[43m \u001b[49m\u001b[38;5;241;43m==\u001b[39;49m\u001b[43m \u001b[49m\u001b[38;5;241;43m1\u001b[39;49m\u001b[43m)\u001b[49m:\n\u001b[0;32m      7\u001b[0m             candidates\u001b[38;5;241m.\u001b[39mappend((i, j))\n\u001b[0;32m      8\u001b[0m \u001b[38;5;28;01mreturn\u001b[39;00m candidates\n",
      "\u001b[1;31mKeyboardInterrupt\u001b[0m: "
     ]
    }
   ],
   "source": [
    "seed_position = (size - 1, size // 2)  # Seed at the bottom center\n",
    "iterations = 1000  # Number of growth steps\n",
    "omega = 1.9  # Over-relaxation parameter\n",
    "epsilon = 1e-5  # epsilon for SOR convergence\n",
    "size = 100  # Size of the domain\n",
    "\n",
    "n_runs = 5\n",
    "\n",
    "for eta in np.arange(0.01, 100, 10):\n",
    "    n_iter = []\n",
    "    for omega in np.arange(1.7, 1.99, 0.05):\n",
    "        temp_iter = []\n",
    "        for run in range(0, n_runs):\n",
    "            # Initialize domain\n",
    "            domain = np.zeros((size, size))\n",
    "            domain[seed_position] = 1  # Place the initial seed\n",
    "\n",
    "            # Initialize the nutrient concentration grid with highest concentration at the top\n",
    "            concentration = np.linspace(1, 0, size).reshape(-1, 1)  # Gradient from top (1) to bottom (0)\n",
    "            concentration = np.tile(concentration, (1, size))  # Extend the gradient horizontally\n",
    "\n",
    "            domain, concentration, count = sim(domain, concentration, omega, iterations, eta)\n",
    "            temp_iter.append(count)\n",
    "            print(omega)\n",
    "        n_iter.append(np.mean(temp_iter))\n",
    "\n",
    "    plt.plot(np.linspace(1.7, 1.99, len(n_iter)), n_iter, label = f\"$\\eta$ = {eta}\")\n",
    "    plt.scatter(np.linspace(1.7, 1.99, len(n_iter)), n_iter, s=5)\n",
    "\n",
    "plt.legend()\n",
    "plt.grid(True)\n",
    "plt.xlabel('Omega $(\\omega)$')\n",
    "plt.ylabel('Iterations')\n",
    "plt.title('Number of iterations needed to form a DLA Cluster \\nfor Optimal $\\omega$ by varying $\\eta$')\n",
    "\n",
    "plt.show()"
   ]
  },
  {
   "cell_type": "code",
   "execution_count": null,
   "metadata": {},
   "outputs": [],
   "source": [
    "seed_position = (size - 1, size // 2)  # Seed at the bottom center\n",
    "iterations = 1000  # Number of growth steps\n",
    "omega = 1.9  # Over-relaxation parameter\n",
    "epsilon = 1e-5  # epsilon for SOR convergence\n",
    "size = 100  # Size of the domain\n",
    "\n",
    "for eta in np.arange(0.01, 100, 10):\n",
    "    n_iter = []\n",
    "    for omega in np.arange(1.7, 1.99, 0.05):\n",
    "        temp_count = []\n",
    "        for runs in range(5):\n",
    "            # Initialize domain\n",
    "            domain = np.zeros((size, size))\n",
    "            domain[seed_position] = 1  # Place the initial seed\n",
    "\n",
    "            # Initialize the nutrient concentration grid with highest concentration at the top\n",
    "            concentration = np.linspace(1, 0, size).reshape(-1, 1)  # Gradient from top (1) to bottom (0)\n",
    "            concentration = np.tile(concentration, (1, size))  # Extend the gradient horizontally\n",
    "\n",
    "            domain, concentration, count = sim(domain, concentration, omega, iterations, eta)\n",
    "            temp_count.append(count)\n",
    "            \n",
    "        n_iter.append(np.mean(temp_count))\n",
    "        print(omega)\n",
    "\n",
    "    plt.plot(np.linspace(1.7, 1.99, len(n_iter)), n_iter, label = f\"$\\eta$ = {eta}\")\n",
    "    plt.scatter(np.linspace(1.7, 1.99, len(n_iter)), n_iter, s=5)\n",
    "\n",
    "plt.legend()\n",
    "plt.grid(True)\n",
    "plt.xlabel('Omega $(\\omega)$')\n",
    "plt.ylabel('Iterations')\n",
    "plt.title('Number of iterations needed to form a DLA Cluster \\nfor Optimal $\\omega$ by varying $\\eta$')\n",
    "\n",
    "plt.show()"
   ]
  },
  {
   "cell_type": "markdown",
   "metadata": {},
   "source": [
    "# Monte Carlo\n"
   ]
  },
  {
   "cell_type": "code",
   "execution_count": null,
   "metadata": {},
   "outputs": [],
   "source": [
    "def run_dla(size, seed_position, num_walkers):\n",
    "    domain = np.zeros((size, size), dtype=int)\n",
    "    domain[seed_position] = 1  # Start with a seed\n",
    "\n",
    "    # Function for performing a single random walk\n",
    "    def random_walk():\n",
    "        # Start position for the walker at the top boundary\n",
    "        x, y = 0, np.random.randint(size)\n",
    "        \n",
    "        # Perform the walk until the walker sticks or exits the domain\n",
    "        while True:\n",
    "            # Step\n",
    "            step_x, step_y = np.random.choice([-1, 0, 1]), np.random.choice([-1, 0, 1])\n",
    "            # No diags\n",
    "            if step_x != 0 and step_y != 0:\n",
    "                continue\n",
    "            \n",
    "            x, y = x + step_x, (y + step_y) % size  # Apply periodic boundary conditions horizontally\n",
    "            \n",
    "            # Check top and bottom boundaries\n",
    "            if x < 0:\n",
    "                x = 0  # Reset to top if it tries to move out from top\n",
    "            elif x >= size:\n",
    "                return False  # Remove walker if it moves out from the bottom\n",
    "            \n",
    "            # Check if next to the cluster\n",
    "            if np.any(domain[max(0, x-1):min(size, x+2), max(0, y-1):min(size, y+2)] == 1):\n",
    "                return (x, y)  # Walker sticks\n",
    "\n",
    "    # Main loop for DLA growth\n",
    "    for _ in range(num_walkers):\n",
    "        result = random_walk()\n",
    "        if result:\n",
    "            domain[result] = 1  # Add new point to the cluster\n",
    "\n",
    "    return domain"
   ]
  },
  {
   "cell_type": "code",
   "execution_count": null,
   "metadata": {},
   "outputs": [],
   "source": [
    "# Parameters\n",
    "size = 100\n",
    "seed_position = (size - 1, size // 2)  # Starting at the bottom center\n",
    "num_walkers = 1000  # Number of walkers\n",
    "\n",
    "# Run simulation\n",
    "domain = run_dla(size, seed_position, num_walkers)"
   ]
  },
  {
   "cell_type": "code",
   "execution_count": null,
   "metadata": {},
   "outputs": [
    {
     "data": {
      "image/png": "[encoded data removed]",
      "text/plain": [
       "<Figure size 800x800 with 1 Axes>"
      ]
     },
     "metadata": {},
     "output_type": "display_data"
    }
   ],
   "source": [
    "# Plot the result\n",
    "plt.figure(figsize=(8, 8))\n",
    "plt.imshow(domain, cmap='Blues')\n",
    "plt.title('DLA Cluster with Monte Carlo Random Walkers')\n",
    "plt.axis('off')\n",
    "plt.show()\n"
   ]
  },
  {
   "cell_type": "code",
   "execution_count": null,
   "metadata": {},
   "outputs": [],
   "source": [
    "def run_dla(size, seed_position, num_walkers, stick_probs):\n",
    "    results = []\n",
    "\n",
    "    for ps in stick_probs:\n",
    "        domain = np.zeros((size, size), dtype=int)\n",
    "        domain[seed_position] = 1  # Start with a seed\n",
    "\n",
    "        # Function for performing a single random walk\n",
    "        def random_walk():\n",
    "            x, y = 0, np.random.randint(size)  # Start from top boundary\n",
    "            \n",
    "            while True:\n",
    "                step_x, step_y = np.random.choice([-1, 0, 1]), np.random.choice([-1, 0, 1])\n",
    "                if step_x != 0 and step_y != 0:  # Prevent diagonal movement\n",
    "                    continue\n",
    "\n",
    "                x, y = x + step_x, (y + step_y) % size  # Apply periodic boundary conditions horizontally\n",
    "                \n",
    "                if x < 0:  # Reset to top if moving out from top\n",
    "                    x = 0\n",
    "                elif x >= size:  # Remove walker if it moves out from bottom\n",
    "                    return False\n",
    "                \n",
    "                # Check if next to the cluster\n",
    "                if np.any(domain[max(0, x-1):min(size, x+2), max(0, y-1):min(size, y+2)] == 1):\n",
    "                    # Stick with probability ps\n",
    "                    if np.random.random() < ps:\n",
    "                        return (x, y)  # Walker sticks\n",
    "\n",
    "        # Main loop for DLA growth\n",
    "        for _ in range(num_walkers):\n",
    "            result = random_walk()\n",
    "            if result:\n",
    "                domain[result] = 1  # Add new point to the cluster\n",
    "\n",
    "        results.append((ps, domain.copy()))\n",
    "\n",
    "    return results\n"
   ]
  },
  {
   "cell_type": "code",
   "execution_count": null,
   "metadata": {},
   "outputs": [
    {
     "ename": "KeyboardInterrupt",
     "evalue": "",
     "output_type": "error",
     "traceback": [
      "\u001b[1;31m---------------------------------------------------------------------------\u001b[0m",
      "\u001b[1;31mKeyboardInterrupt\u001b[0m                         Traceback (most recent call last)",
      "Cell \u001b[1;32mIn [24], line 8\u001b[0m\n\u001b[0;32m      5\u001b[0m stick_probs \u001b[38;5;241m=\u001b[39m [\u001b[38;5;241m0.1\u001b[39m, \u001b[38;5;241m0.5\u001b[39m, \u001b[38;5;241m0.9\u001b[39m]  \u001b[38;5;66;03m# Different sticking probabilities\u001b[39;00m\n\u001b[0;32m      7\u001b[0m \u001b[38;5;66;03m# Run simulations\u001b[39;00m\n\u001b[1;32m----> 8\u001b[0m results \u001b[38;5;241m=\u001b[39m run_dla(size, seed_position, num_walkers, stick_probs)\n",
      "Cell \u001b[1;32mIn [23], line 32\u001b[0m, in \u001b[0;36mrun_dla\u001b[1;34m(size, seed_position, num_walkers, stick_probs)\u001b[0m\n\u001b[0;32m     30\u001b[0m \u001b[38;5;66;03m# Main loop for DLA growth\u001b[39;00m\n\u001b[0;32m     31\u001b[0m \u001b[38;5;28;01mfor\u001b[39;00m _ \u001b[38;5;129;01min\u001b[39;00m \u001b[38;5;28mrange\u001b[39m(num_walkers):\n\u001b[1;32m---> 32\u001b[0m     result \u001b[38;5;241m=\u001b[39m \u001b[43mrandom_walk\u001b[49m\u001b[43m(\u001b[49m\u001b[43m)\u001b[49m\n\u001b[0;32m     33\u001b[0m     \u001b[38;5;28;01mif\u001b[39;00m result:\n\u001b[0;32m     34\u001b[0m         domain[result] \u001b[38;5;241m=\u001b[39m \u001b[38;5;241m1\u001b[39m  \u001b[38;5;66;03m# Add new point to the cluster\u001b[39;00m\n",
      "Cell \u001b[1;32mIn [23], line 13\u001b[0m, in \u001b[0;36mrun_dla.<locals>.random_walk\u001b[1;34m()\u001b[0m\n\u001b[0;32m     10\u001b[0m x, y \u001b[38;5;241m=\u001b[39m \u001b[38;5;241m0\u001b[39m, np\u001b[38;5;241m.\u001b[39mrandom\u001b[38;5;241m.\u001b[39mrandint(size)  \u001b[38;5;66;03m# Start from top boundary\u001b[39;00m\n\u001b[0;32m     12\u001b[0m \u001b[38;5;28;01mwhile\u001b[39;00m \u001b[38;5;28;01mTrue\u001b[39;00m:\n\u001b[1;32m---> 13\u001b[0m     step_x, step_y \u001b[38;5;241m=\u001b[39m np\u001b[38;5;241m.\u001b[39mrandom\u001b[38;5;241m.\u001b[39mchoice([\u001b[38;5;241m-\u001b[39m\u001b[38;5;241m1\u001b[39m, \u001b[38;5;241m0\u001b[39m, \u001b[38;5;241m1\u001b[39m]), \u001b[43mnp\u001b[49m\u001b[38;5;241;43m.\u001b[39;49m\u001b[43mrandom\u001b[49m\u001b[38;5;241;43m.\u001b[39;49m\u001b[43mchoice\u001b[49m\u001b[43m(\u001b[49m\u001b[43m[\u001b[49m\u001b[38;5;241;43m-\u001b[39;49m\u001b[38;5;241;43m1\u001b[39;49m\u001b[43m,\u001b[49m\u001b[43m \u001b[49m\u001b[38;5;241;43m0\u001b[39;49m\u001b[43m,\u001b[49m\u001b[43m \u001b[49m\u001b[38;5;241;43m1\u001b[39;49m\u001b[43m]\u001b[49m\u001b[43m)\u001b[49m\n\u001b[0;32m     14\u001b[0m     \u001b[38;5;28;01mif\u001b[39;00m step_x \u001b[38;5;241m!=\u001b[39m \u001b[38;5;241m0\u001b[39m \u001b[38;5;129;01mand\u001b[39;00m step_y \u001b[38;5;241m!=\u001b[39m \u001b[38;5;241m0\u001b[39m:  \u001b[38;5;66;03m# Prevent diagonal movement\u001b[39;00m\n\u001b[0;32m     15\u001b[0m         \u001b[38;5;28;01mcontinue\u001b[39;00m\n",
      "\u001b[1;31mKeyboardInterrupt\u001b[0m: "
     ]
    }
   ],
   "source": [
    "\n",
    "# Parameters\n",
    "size = 100\n",
    "seed_position = (size - 1, size // 2)  # Starting at the bottom center\n",
    "num_walkers = 5000  # Number of walkers\n",
    "stick_probs = [0.1, 0.5, 0.9]  # Different sticking probabilities\n",
    "\n",
    "# Run simulations\n",
    "results = run_dla(size, seed_position, num_walkers, stick_probs)"
   ]
  },
  {
   "cell_type": "code",
   "execution_count": null,
   "metadata": {},
   "outputs": [],
   "source": [
    "# Plotting results\n",
    "fig, axs = plt.subplots(1, len(stick_probs), figsize=(20, 5))\n",
    "for i, (ps, domain) in enumerate(results):\n",
    "    axs[i].imshow(domain, cmap='Reds')\n",
    "    axs[i].set_title(f'p_s = {ps}')\n",
    "    axs[i].axis('off')\n",
    "plt.tight_layout()\n",
    "plt.show()"
   ]
  },
  {
   "cell_type": "code",
   "execution_count": null,
   "metadata": {},
   "outputs": [],
   "source": []
  }
 ],
 "metadata": {
  "kernelspec": {
   "display_name": "Python 3",
   "language": "python",
   "name": "python3"
  },
  "language_info": {
   "codemirror_mode": {
    "name": "ipython",
    "version": 3
   },
   "file_extension": ".py",
   "mimetype": "text/x-python",
   "name": "python",
   "nbconvert_exporter": "python",
   "pygments_lexer": "ipython3",
   "version": "3.10.6"
  }
 },
 "nbformat": 4,
 "nbformat_minor": 2
}
