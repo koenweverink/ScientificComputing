{
 "cells": [
  {
   "cell_type": "code",
   "execution_count": 57,
   "metadata": {},
   "outputs": [],
   "source": [
    "import numpy as np\n",
    "from scipy.linalg import eigh\n",
    "from scipy.sparse import diags\n",
    "from scipy.sparse.linalg import eigs\n",
    "import matplotlib.pyplot as plt\n"
   ]
  },
  {
   "cell_type": "code",
   "execution_count": 75,
   "metadata": {},
   "outputs": [
    {
     "name": "stdout",
     "output_type": "stream",
     "text": [
      "[[-2.  1.  0.  0.  1.  0.  0.  0.  0.  0.  0.  0.  0.  0.  0.  0.]\n",
      " [ 1. -3.  1.  0.  0.  1.  0.  0.  0.  0.  0.  0.  0.  0.  0.  0.]\n",
      " [ 0.  1. -3.  1.  0.  0.  1.  0.  0.  0.  0.  0.  0.  0.  0.  0.]\n",
      " [ 0.  0.  1. -2.  0.  0.  0.  1.  0.  0.  0.  0.  0.  0.  0.  0.]\n",
      " [ 1.  0.  0.  0. -3.  1.  0.  0.  1.  0.  0.  0.  0.  0.  0.  0.]\n",
      " [ 0.  1.  0.  0.  1. -4.  1.  0.  0.  1.  0.  0.  0.  0.  0.  0.]\n",
      " [ 0.  0.  1.  0.  0.  1. -4.  1.  0.  0.  1.  0.  0.  0.  0.  0.]\n",
      " [ 0.  0.  0.  1.  0.  0.  1. -3.  0.  0.  0.  1.  0.  0.  0.  0.]\n",
      " [ 0.  0.  0.  0.  1.  0.  0.  0. -3.  1.  0.  0.  1.  0.  0.  0.]\n",
      " [ 0.  0.  0.  0.  0.  1.  0.  0.  1. -4.  1.  0.  0.  1.  0.  0.]\n",
      " [ 0.  0.  0.  0.  0.  0.  1.  0.  0.  1. -4.  1.  0.  0.  1.  0.]\n",
      " [ 0.  0.  0.  0.  0.  0.  0.  1.  0.  0.  1. -3.  0.  0.  0.  1.]\n",
      " [ 0.  0.  0.  0.  0.  0.  0.  0.  1.  0.  0.  0. -2.  1.  0.  0.]\n",
      " [ 0.  0.  0.  0.  0.  0.  0.  0.  0.  1.  0.  0.  1. -3.  1.  0.]\n",
      " [ 0.  0.  0.  0.  0.  0.  0.  0.  0.  0.  1.  0.  0.  1. -3.  1.]\n",
      " [ 0.  0.  0.  0.  0.  0.  0.  0.  0.  0.  0.  1.  0.  0.  1. -2.]]\n"
     ]
    }
   ],
   "source": [
    "def create_reflective_laplacian(n):\n",
    "    N = n * n  # Total number of points in the grid\n",
    "    M = np.zeros((N, N))  # Initialize matrix with zeros\n",
    "\n",
    "    for i in range(N):\n",
    "        # Default value for cells\n",
    "        M[i, i] = -4\n",
    "        \n",
    "        # Reflective boundary adjustments\n",
    "        if i % n == 0 or i % n == (n - 1):  # Left or right edge\n",
    "            M[i, i] += 1\n",
    "        if i < n or i >= N - n:  # Top or bottom edge\n",
    "            M[i, i] += 1\n",
    "\n",
    "        # Set connections for adjacent cells, considering the grid layout\n",
    "        if i % n != 0:  # Not on the left edge\n",
    "            M[i, i - 1] = 1  # Left neighbor\n",
    "        if (i + 1) % n != 0:  # Not on the right edge\n",
    "            M[i, i + 1] = 1  # Right neighbor\n",
    "        if i >= n:  # Not on the top edge\n",
    "            M[i, i - n] = 1  # Top neighbor\n",
    "        if i < N - n:  # Not on the bottom edge\n",
    "            M[i, i + n] = 1  # Bottom neighbor\n",
    "\n",
    "    return M\n",
    "\n",
    "# Example usage\n",
    "n = 4 # Change this to create a different size grid\n",
    "L = create_reflective_laplacian(n)\n",
    "print(L)\n"
   ]
  },
  {
   "cell_type": "code",
   "execution_count": 68,
   "metadata": {},
   "outputs": [
    {
     "name": "stdout",
     "output_type": "stream",
     "text": [
      "Eigenvalues:\n",
      "[-6.82842712e+00 -5.41421356e+00 -5.41421356e+00 -4.00000000e+00\n",
      " -4.00000000e+00 -4.00000000e+00 -3.41421356e+00 -3.41421356e+00\n",
      " -2.58578644e+00 -2.58578644e+00 -2.00000000e+00 -2.00000000e+00\n",
      " -1.17157288e+00 -5.85786438e-01 -5.85786438e-01  7.67864560e-16]\n",
      "\n",
      "Eigenvectors (each column is one eigenvector):\n",
      "[[ 0.0732233  -0.19112191 -0.00916877 -0.09891701  0.33845252  0.02579376\n",
      "  -0.19036907  0.01926833  0.4613642  -0.02305254 -0.33664257 -0.10803601\n",
      "   0.4267767   0.22326472  0.40440229 -0.25      ]\n",
      " [-0.1767767   0.31978222  0.15079567 -0.16969287 -0.43292925  0.18378411\n",
      "   0.16750436  0.31135557 -0.15143105 -0.31948182  0.10803601 -0.33664257\n",
      "   0.1767767   0.27631869  0.22056288 -0.25      ]\n",
      " [ 0.1767767  -0.11949154 -0.33274881  0.06109082  0.05543777 -0.49314761\n",
      "  -0.3386051  -0.10171816 -0.33298569 -0.11882984  0.10803601 -0.33664257\n",
      "  -0.1767767   0.35134832 -0.03942531 -0.25      ]\n",
      " [-0.0732233  -0.00916877  0.19112191  0.20751906  0.03903896  0.28356974\n",
      "   0.01926833  0.19036907  0.02305254  0.4613642  -0.33664257 -0.10803601\n",
      "  -0.4267767   0.40440229 -0.22326472 -0.25      ]\n",
      " [-0.1767767   0.33274881 -0.11949154  0.36752688 -0.24397579 -0.23537162\n",
      "   0.10171816 -0.3386051  -0.11882984  0.33298569 -0.10803601  0.33664257\n",
      "   0.1767767   0.03942531  0.35134832 -0.25      ]\n",
      " [ 0.4267767  -0.46140912 -0.02213536  0.20751906  0.03903896  0.28356974\n",
      "   0.4595916  -0.04651786 -0.19110331  0.00954868  0.33664257  0.10803601\n",
      "   0.0732233   0.09247928  0.16750891 -0.25      ]\n",
      " [-0.4267767  -0.02213536  0.46140912 -0.09891701  0.33845252  0.02579376\n",
      "  -0.04651786 -0.4595916  -0.00954868 -0.19110331  0.33664257  0.10803601\n",
      "  -0.0732233   0.16750891 -0.09247928 -0.25      ]\n",
      " [ 0.1767767   0.15079567 -0.31978222 -0.47612894 -0.13351569 -0.07399188\n",
      "   0.31135557 -0.16750436  0.31948182 -0.15143105 -0.10803601  0.33664257\n",
      "  -0.1767767   0.22056288 -0.27631869 -0.25      ]\n",
      " [ 0.1767767  -0.15079567  0.31978222 -0.47612894 -0.13351569 -0.07399188\n",
      "  -0.31135557  0.16750436 -0.31948182  0.15143105 -0.10803601  0.33664257\n",
      "  -0.1767767  -0.22056288  0.27631869 -0.25      ]\n",
      " [-0.4267767   0.02213536 -0.46140912 -0.09891701  0.33845252  0.02579376\n",
      "   0.04651786  0.4595916   0.00954868  0.19110331  0.33664257  0.10803601\n",
      "  -0.0732233  -0.16750891  0.09247928 -0.25      ]\n",
      " [ 0.4267767   0.46140912  0.02213536  0.20751906  0.03903896  0.28356974\n",
      "  -0.4595916   0.04651786  0.19110331 -0.00954868  0.33664257  0.10803601\n",
      "   0.0732233  -0.09247928 -0.16750891 -0.25      ]\n",
      " [-0.1767767  -0.33274881  0.11949154  0.36752688 -0.24397579 -0.23537162\n",
      "  -0.10171816  0.3386051   0.11882984 -0.33298569 -0.10803601  0.33664257\n",
      "   0.1767767  -0.03942531 -0.35134832 -0.25      ]\n",
      " [-0.0732233   0.00916877 -0.19112191  0.20751906  0.03903896  0.28356974\n",
      "  -0.01926833 -0.19036907 -0.02305254 -0.4613642  -0.33664257 -0.10803601\n",
      "  -0.4267767  -0.40440229  0.22326472 -0.25      ]\n",
      " [ 0.1767767   0.11949154  0.33274881  0.06109082  0.05543777 -0.49314761\n",
      "   0.3386051   0.10171816  0.33298569  0.11882984  0.10803601 -0.33664257\n",
      "  -0.1767767  -0.35134832  0.03942531 -0.25      ]\n",
      " [-0.1767767  -0.31978222 -0.15079567 -0.16969287 -0.43292925  0.18378411\n",
      "  -0.16750436 -0.31135557  0.15143105  0.31948182  0.10803601 -0.33664257\n",
      "   0.1767767  -0.27631869 -0.22056288 -0.25      ]\n",
      " [ 0.0732233   0.19112191  0.00916877 -0.09891701  0.33845252  0.02579376\n",
      "   0.19036907 -0.01926833 -0.4613642   0.02305254 -0.33664257 -0.10803601\n",
      "   0.4267767  -0.22326472 -0.40440229 -0.25      ]]\n"
     ]
    }
   ],
   "source": [
    "# Solve the eigenvalue problem\n",
    "eigenvalues, eigenvectors = eigh(L)\n",
    "\n",
    "# Print the results\n",
    "print(\"Eigenvalues:\")\n",
    "print(eigenvalues)\n",
    "print(\"\\nEigenvectors (each column is one eigenvector):\")\n",
    "print(eigenvectors)"
   ]
  },
  {
   "cell_type": "code",
   "execution_count": 69,
   "metadata": {},
   "outputs": [
    {
     "name": "stdout",
     "output_type": "stream",
     "text": [
      "The matrix is square.\n"
     ]
    }
   ],
   "source": [
    "def create_circular_laplacian(n, radius):\n",
    "    # Total points\n",
    "    N = n * n\n",
    "    # Center of the circle\n",
    "    center = np.array([n / 2 - 0.5, n / 2 - 0.5])\n",
    "    # Initialize the matrix\n",
    "    M = np.zeros((N, N))\n",
    "\n",
    "    # Identify points inside the circle\n",
    "    inside_circle = []\n",
    "    for i in range(n):\n",
    "        for j in range(n):\n",
    "            if (np.array([i, j]) - center).dot(np.array([i, j]) - center) <= radius**2:\n",
    "                inside_circle.append(i * n + j)\n",
    "\n",
    "    # Now build the Laplacian only for these points\n",
    "    for idx in inside_circle:\n",
    "        x, y = divmod(idx, n)\n",
    "        M[idx, idx] = -4\n",
    "        for dx, dy in [(-1, 0), (1, 0), (0, -1), (0, 1)]:\n",
    "            nx, ny = x + dx, y + dy\n",
    "            if 0 <= nx < n and 0 <= ny < n and nx * n + ny in inside_circle:\n",
    "                M[idx, nx * n + ny] = 1\n",
    "\n",
    "    # Filter out the unused rows and columns\n",
    "    M = M[np.ix_(inside_circle, inside_circle)]\n",
    "\n",
    "    return M\n",
    "\n",
    "L = 1\n",
    "# Create the corrected Laplacian for the circular domain\n",
    "radius = L / 2  # Make sure L and n are defined\n",
    "L_circle_corrected = create_circular_laplacian(n, radius * n / L)\n",
    "\n",
    "# Now, check if the matrix is square\n",
    "if L_circle_corrected.shape[0] == L_circle_corrected.shape[1]:\n",
    "    print(\"The matrix is square.\")\n",
    "    # Proceed with solving the eigenvalue problem\n",
    "    try:\n",
    "        vals_circle, vecs_circle = eigh(L_circle_corrected)\n",
    "        # Continue with your analysis or plotting\n",
    "    except ValueError as e:\n",
    "        print(\"Error in eigenvalue computation:\", e)\n",
    "else:\n",
    "    print(\"The matrix is not square, check the Laplacian construction.\")\n"
   ]
  },
  {
   "cell_type": "code",
   "execution_count": 70,
   "metadata": {},
   "outputs": [],
   "source": [
    "\n",
    "# Square grid (already done)\n",
    "L_square = create_reflective_laplacian(n)\n",
    "\n",
    "# Rectangle grid\n",
    "L_rect = create_reflective_laplacian(2 * n)  # Assuming 2n x n rectangle\n",
    "\n",
    "# Circular grid\n",
    "radius = L / 2  # Make sure L and n are defined\n",
    "L_circle = create_circular_laplacian(n, radius * n / L)\n",
    "try:\n",
    "    vals_circle, vecs_circle = eigh(L_circle)\n",
    "    # If successful, continue to plot or use the eigenvalues and vectors\n",
    "except ValueError as e:\n",
    "    print(f\"An error occurred: {e}\")"
   ]
  },
  {
   "cell_type": "code",
   "execution_count": 71,
   "metadata": {},
   "outputs": [],
   "source": [
    "# Solve the eigenvalue problem for each shape\n",
    "vals_square, vecs_square = eigh(L_square)\n",
    "vals_rect, vecs_rect = eigh(L_rect)\n",
    "vals_circle, vecs_circle = eigh(L_circle)"
   ]
  },
  {
   "cell_type": "code",
   "execution_count": 72,
   "metadata": {},
   "outputs": [],
   "source": [
    "\n",
    "# Function for plotting the eigenvectors\n",
    "def plot_eigenvectors(vals, vecs, title, shape, n, plot_number=4):\n",
    "    \"\"\"\n",
    "    Plot the first few eigenvectors for a given shape.\n",
    "\n",
    "    Args:\n",
    "        vals (array): Eigenvalues.\n",
    "        vecs (matrix): Eigenvectors.\n",
    "        title (str): Title for the plots.\n",
    "        shape (str): 'square', 'rectangle', or 'circle' to indicate the shape.\n",
    "        n (int): Grid size (number of points per side for square and circle, width for rectangle).\n",
    "        plot_number (int): Number of eigenvectors to plot.\n",
    "    \"\"\"\n",
    "    fig, axs = plt.subplots(1, plot_number, figsize=(15, 3))\n",
    "    fig.suptitle(title)\n",
    "    \n",
    "    for i in range(plot_number):\n",
    "        if shape == 'circle':\n",
    "            # Special handling for circle to only show the circular part\n",
    "            eigenvector = np.zeros((n, n))\n",
    "            idx = 0\n",
    "            for x in range(n):\n",
    "                for y in range(n):\n",
    "                    if (x - n/2)**2 + (y - n/2)**2 <= (n/2)**2:\n",
    "                        eigenvector[x, y] = vecs[idx, i]\n",
    "                        idx += 1\n",
    "        else:\n",
    "            eigenvector = vecs[:, i].reshape(n, -1) if shape == 'square' else vecs[:, i].reshape(-1, n)\n",
    "        \n",
    "        axs[i].imshow(eigenvector, cmap='viridis')\n",
    "        axs[i].set_title(f'λ = {vals[i]:.2f}')\n",
    "        axs[i].axis('off')\n",
    "    plt.show()"
   ]
  },
  {
   "cell_type": "code",
   "execution_count": 73,
   "metadata": {},
   "outputs": [
    {
     "data": {
      "image/png": "[encoded data removed]",
      "text/plain": [
       "<Figure size 1500x300 with 4 Axes>"
      ]
     },
     "metadata": {},
     "output_type": "display_data"
    },
    {
     "data": {
      "image/png": "[encoded data removed]",
      "text/plain": [
       "<Figure size 1500x300 with 4 Axes>"
      ]
     },
     "metadata": {},
     "output_type": "display_data"
    },
    {
     "data": {
      "image/png": "[encoded data removed]",
      "text/plain": [
       "<Figure size 1500x300 with 4 Axes>"
      ]
     },
     "metadata": {},
     "output_type": "display_data"
    }
   ],
   "source": [
    "# Plot the eigenvectors for each shape\n",
    "plot_eigenvectors(vals_square, vecs_square, 'Square Membrane Modes', 'square', n)\n",
    "plot_eigenvectors(vals_rect, vecs_rect, 'Rectangular Membrane Modes', 'rectangle', 2*n)\n",
    "plot_eigenvectors(vals_circle, vecs_circle, 'Circular Membrane Modes', 'circle', n)"
   ]
  }
 ],
 "metadata": {
  "kernelspec": {
   "display_name": "Python 3",
   "language": "python",
   "name": "python3"
  },
  "language_info": {
   "codemirror_mode": {
    "name": "ipython",
    "version": 3
   },
   "file_extension": ".py",
   "mimetype": "text/x-python",
   "name": "python",
   "nbconvert_exporter": "python",
   "pygments_lexer": "ipython3",
   "version": "3.10.6"
  }
 },
 "nbformat": 4,
 "nbformat_minor": 2
}
