{
 "cells": [
  {
   "cell_type": "code",
   "execution_count": 15,
   "metadata": {},
   "outputs": [],
   "source": [
    "import numpy as np\n",
    "from scipy.linalg import eigh, eig\n",
    "from scipy.sparse import diags\n",
    "from scipy.sparse.linalg import eigs\n",
    "import matplotlib.pyplot as plt\n",
    "import time\n"
   ]
  },
  {
   "cell_type": "code",
   "execution_count": 17,
   "metadata": {},
   "outputs": [
    {
     "name": "stdout",
     "output_type": "stream",
     "text": [
      "[[-2.  1.  0.  0.  1.  0.  0.  0.  0.  0.  0.  0.  0.  0.  0.  0.]\n",
      " [ 1. -3.  1.  0.  0.  1.  0.  0.  0.  0.  0.  0.  0.  0.  0.  0.]\n",
      " [ 0.  1. -3.  1.  0.  0.  1.  0.  0.  0.  0.  0.  0.  0.  0.  0.]\n",
      " [ 0.  0.  1. -2.  0.  0.  0.  1.  0.  0.  0.  0.  0.  0.  0.  0.]\n",
      " [ 1.  0.  0.  0. -3.  1.  0.  0.  1.  0.  0.  0.  0.  0.  0.  0.]\n",
      " [ 0.  1.  0.  0.  1. -4.  1.  0.  0.  1.  0.  0.  0.  0.  0.  0.]\n",
      " [ 0.  0.  1.  0.  0.  1. -4.  1.  0.  0.  1.  0.  0.  0.  0.  0.]\n",
      " [ 0.  0.  0.  1.  0.  0.  1. -3.  0.  0.  0.  1.  0.  0.  0.  0.]\n",
      " [ 0.  0.  0.  0.  1.  0.  0.  0. -3.  1.  0.  0.  1.  0.  0.  0.]\n",
      " [ 0.  0.  0.  0.  0.  1.  0.  0.  1. -4.  1.  0.  0.  1.  0.  0.]\n",
      " [ 0.  0.  0.  0.  0.  0.  1.  0.  0.  1. -4.  1.  0.  0.  1.  0.]\n",
      " [ 0.  0.  0.  0.  0.  0.  0.  1.  0.  0.  1. -3.  0.  0.  0.  1.]\n",
      " [ 0.  0.  0.  0.  0.  0.  0.  0.  1.  0.  0.  0. -2.  1.  0.  0.]\n",
      " [ 0.  0.  0.  0.  0.  0.  0.  0.  0.  1.  0.  0.  1. -3.  1.  0.]\n",
      " [ 0.  0.  0.  0.  0.  0.  0.  0.  0.  0.  1.  0.  0.  1. -3.  1.]\n",
      " [ 0.  0.  0.  0.  0.  0.  0.  0.  0.  0.  0.  1.  0.  0.  1. -2.]]\n"
     ]
    }
   ],
   "source": [
    "def create_reflective_laplacian(n):\n",
    "    N = n * n  # Total number of points in the grid\n",
    "    M = np.zeros((N, N))  # Initialize matrix with zeros\n",
    "\n",
    "    for i in range(N):\n",
    "        # Default value for cells\n",
    "        M[i, i] = -4\n",
    "        \n",
    "        # Reflective boundary adjustments\n",
    "        if i % n == 0 or i % n == (n - 1):  # Left or right edge\n",
    "            M[i, i] += 1\n",
    "        if i < n or i >= N - n:  # Top or bottom edge\n",
    "            M[i, i] += 1\n",
    "\n",
    "        # Set connections for adjacent cells, considering the grid layout\n",
    "        if i % n != 0:  # Not on the left edge\n",
    "            M[i, i - 1] = 1  # Left neighbor\n",
    "        if (i + 1) % n != 0:  # Not on the right edge\n",
    "            M[i, i + 1] = 1  # Right neighbor\n",
    "        if i >= n:  # Not on the top edge\n",
    "            M[i, i - n] = 1  # Top neighbor\n",
    "        if i < N - n:  # Not on the bottom edge\n",
    "            M[i, i + n] = 1  # Bottom neighbor\n",
    "\n",
    "    return M\n",
    "\n",
    "# Example usage\n",
    "n = 4 # Change this to create a different size grid\n",
    "L = create_reflective_laplacian(n)\n",
    "print(L)\n"
   ]
  },
  {
   "cell_type": "code",
   "execution_count": 18,
   "metadata": {},
   "outputs": [
    {
     "name": "stdout",
     "output_type": "stream",
     "text": [
      "The matrix is square.\n"
     ]
    }
   ],
   "source": [
    "def create_circular_laplacian(n, radius):\n",
    "    # Total points\n",
    "    N = n * n\n",
    "    # Center of the circle\n",
    "    center = np.array([n / 2 - 0.5, n / 2 - 0.5])\n",
    "    # Initialize the matrix\n",
    "    M = np.zeros((N, N))\n",
    "\n",
    "    # Identify points inside the circle\n",
    "    inside_circle = []\n",
    "    for i in range(n):\n",
    "        for j in range(n):\n",
    "            if (np.array([i, j]) - center).dot(np.array([i, j]) - center) <= radius**2:\n",
    "                inside_circle.append(i * n + j)\n",
    "\n",
    "    # Now build the Laplacian only for these points\n",
    "    for idx in inside_circle:\n",
    "        x, y = divmod(idx, n)\n",
    "        M[idx, idx] = -4\n",
    "        for dx, dy in [(-1, 0), (1, 0), (0, -1), (0, 1)]:\n",
    "            nx, ny = x + dx, y + dy\n",
    "            if 0 <= nx < n and 0 <= ny < n and nx * n + ny in inside_circle:\n",
    "                M[idx, nx * n + ny] = 1\n",
    "\n",
    "    # Filter out the unused rows and columns\n",
    "    M = M[np.ix_(inside_circle, inside_circle)]\n",
    "\n",
    "    return M\n",
    "\n",
    "L = 1\n",
    "# Create the corrected Laplacian for the circular domain\n",
    "radius = L / 2  # Make sure L and n are defined\n",
    "L_circle_corrected = create_circular_laplacian(n, radius * n / L)\n",
    "\n",
    "# Now, check if the matrix is square\n",
    "if L_circle_corrected.shape[0] == L_circle_corrected.shape[1]:\n",
    "    print(\"The matrix is square.\")\n",
    "    # Proceed with solving the eigenvalue problem\n",
    "    try:\n",
    "        vals_circle, vecs_circle = eigh(L_circle_corrected)\n",
    "        # Continue with your analysis or plotting\n",
    "    except ValueError as e:\n",
    "        print(\"Error in eigenvalue computation:\", e)\n",
    "else:\n",
    "    print(\"The matrix is not square, check the Laplacian construction.\")\n"
   ]
  },
  {
   "cell_type": "code",
   "execution_count": 19,
   "metadata": {},
   "outputs": [],
   "source": [
    "\n",
    "# Square grid (already done)\n",
    "L_square = create_reflective_laplacian(n)\n",
    "\n",
    "# Rectangle grid\n",
    "L_rect = create_reflective_laplacian(2 * n)  # Assuming 2n x n rectangle\n",
    "\n",
    "# Circular grid\n",
    "radius = L / 2  # Make sure L and n are defined\n",
    "L_circle = create_circular_laplacian(n, radius * n / L)\n",
    "try:\n",
    "    vals_circle, vecs_circle = eigh(L_circle)\n",
    "    # If successful, continue to plot or use the eigenvalues and vectors\n",
    "except ValueError as e:\n",
    "    print(f\"An error occurred: {e}\")"
   ]
  },
  {
   "cell_type": "code",
   "execution_count": 20,
   "metadata": {},
   "outputs": [],
   "source": [
    "# Solve the eigenvalue problem for each shape\n",
    "vals_square, vecs_square = eigh(L_square)\n",
    "vals_rect, vecs_rect = eigh(L_rect)\n",
    "vals_circle, vecs_circle = eigh(L_circle)"
   ]
  },
  {
   "cell_type": "code",
   "execution_count": 22,
   "metadata": {},
   "outputs": [
    {
     "name": "stdout",
     "output_type": "stream",
     "text": [
      "Eigenvalues:\n",
      "[-6.82842712e+00 -5.41421356e+00 -5.41421356e+00 -4.00000000e+00\n",
      " -4.00000000e+00 -4.00000000e+00 -3.41421356e+00 -3.41421356e+00\n",
      " -2.58578644e+00 -2.58578644e+00 -2.00000000e+00 -2.00000000e+00\n",
      " -1.17157288e+00 -5.85786438e-01 -5.85786438e-01  9.23615238e-16]\n",
      "\n",
      "Eigenvectors (each column is one eigenvector):\n",
      "[[ 0.0732233  -0.19129599 -0.00418266  0.34890386 -0.05711931  0.00186493\n",
      "  -0.1912368  -0.0063354   0.46190591 -0.00559252 -0.00343085 -0.35353674\n",
      "   0.4267767   0.38442892 -0.25613035 -0.25      ]\n",
      " [-0.1767767   0.3236051   0.14240694 -0.29401373  0.39526172  0.08558094\n",
      "   0.14604004 -0.32198184 -0.13924362 -0.32497879 -0.35353674  0.00343085\n",
      "   0.1767767   0.19681345 -0.29370813 -0.25      ]\n",
      " [ 0.1767767  -0.12812645 -0.32952028 -0.03897894 -0.25213607 -0.43000935\n",
      "  -0.33094145  0.12440964 -0.32825481 -0.1313346  -0.35353674  0.00343085\n",
      "  -0.1767767  -0.06851488 -0.34685114 -0.25      ]\n",
      " [-0.0732233  -0.00418266  0.19129599 -0.0159112  -0.08600634  0.34256349\n",
      "   0.0063354  -0.1912368   0.00559252  0.46190591 -0.00343085 -0.35353674\n",
      "  -0.4267767  -0.25613035 -0.38442892 -0.25      ]\n",
      " [-0.1767767   0.32952028 -0.12812645 -0.403794   -0.28102311 -0.08931079\n",
      "   0.12440964  0.33094145 -0.1313346   0.32825481  0.35353674 -0.00343085\n",
      "   0.1767767   0.34685114 -0.06851488 -0.25      ]\n",
      " [ 0.4267767  -0.46182939 -0.01009784 -0.0159112  -0.08600634  0.34256349\n",
      "   0.46168649  0.015295   -0.19132769  0.0023165   0.00343085  0.35353674\n",
      "   0.0732233   0.15923567 -0.10609266 -0.25      ]\n",
      " [-0.4267767  -0.01009784  0.46182939  0.34890386 -0.05711931  0.00186493\n",
      "  -0.015295    0.46168649 -0.0023165  -0.19132769  0.00343085  0.35353674\n",
      "  -0.0732233  -0.10609266 -0.15923567 -0.25      ]\n",
      " [ 0.1767767   0.14240694 -0.3236051   0.07080133  0.42414876 -0.25511762\n",
      "   0.32198184  0.14604004  0.32497879 -0.13924362  0.35353674 -0.00343085\n",
      "  -0.1767767  -0.29370813 -0.19681345 -0.25      ]\n",
      " [ 0.1767767  -0.14240694  0.3236051   0.07080133  0.42414876 -0.25511762\n",
      "  -0.32198184 -0.14604004 -0.32497879  0.13924362  0.35353674 -0.00343085\n",
      "  -0.1767767   0.29370813  0.19681345 -0.25      ]\n",
      " [-0.4267767   0.01009784 -0.46182939  0.34890386 -0.05711931  0.00186493\n",
      "   0.015295   -0.46168649  0.0023165   0.19132769  0.00343085  0.35353674\n",
      "  -0.0732233   0.10609266  0.15923567 -0.25      ]\n",
      " [ 0.4267767   0.46182939  0.01009784 -0.0159112  -0.08600634  0.34256349\n",
      "  -0.46168649 -0.015295    0.19132769 -0.0023165   0.00343085  0.35353674\n",
      "   0.0732233  -0.15923567  0.10609266 -0.25      ]\n",
      " [-0.1767767  -0.32952028  0.12812645 -0.403794   -0.28102311 -0.08931079\n",
      "  -0.12440964 -0.33094145  0.1313346  -0.32825481  0.35353674 -0.00343085\n",
      "   0.1767767  -0.34685114  0.06851488 -0.25      ]\n",
      " [-0.0732233   0.00418266 -0.19129599 -0.0159112  -0.08600634  0.34256349\n",
      "  -0.0063354   0.1912368  -0.00559252 -0.46190591 -0.00343085 -0.35353674\n",
      "  -0.4267767   0.25613035  0.38442892 -0.25      ]\n",
      " [ 0.1767767   0.12812645  0.32952028 -0.03897894 -0.25213607 -0.43000935\n",
      "   0.33094145 -0.12440964  0.32825481  0.1313346  -0.35353674  0.00343085\n",
      "  -0.1767767   0.06851488  0.34685114 -0.25      ]\n",
      " [-0.1767767  -0.3236051  -0.14240694 -0.29401373  0.39526172  0.08558094\n",
      "  -0.14604004  0.32198184  0.13924362  0.32497879 -0.35353674  0.00343085\n",
      "   0.1767767  -0.19681345  0.29370813 -0.25      ]\n",
      " [ 0.0732233   0.19129599  0.00418266  0.34890386 -0.05711931  0.00186493\n",
      "   0.1912368   0.0063354  -0.46190591  0.00559252 -0.00343085 -0.35353674\n",
      "   0.4267767  -0.38442892  0.25613035 -0.25      ]]\n"
     ]
    }
   ],
   "source": [
    "# Solve the eigenvalue problem\n",
    "eigenvalues, eigenvectors = eigh(L_square)\n",
    "\n",
    "# Print the results\n",
    "print(\"Eigenvalues:\")\n",
    "print(eigenvalues)\n",
    "print(\"\\nEigenvectors (each column is one eigenvector):\")\n",
    "print(eigenvectors)"
   ]
  },
  {
   "cell_type": "code",
   "execution_count": 23,
   "metadata": {},
   "outputs": [
    {
     "name": "stdout",
     "output_type": "stream",
     "text": [
      "Eigenvalues:\n",
      "[-7.69551813e+00 -7.26197263e+00 -7.26197263e+00 -6.82842712e+00\n",
      " -6.61312593e+00 -6.61312593e+00 -6.17958043e+00 -6.17958043e+00\n",
      " -5.84775907e+00 -5.84775907e+00 -5.53073373e+00 -5.41421356e+00\n",
      " -5.41421356e+00 -5.08239220e+00 -5.08239220e+00 -4.76536686e+00\n",
      " -4.76536686e+00 -4.64884670e+00 -4.64884670e+00 -4.43354550e+00\n",
      " -4.43354550e+00 -4.00000000e+00 -4.00000000e+00 -4.00000000e+00\n",
      " -4.00000000e+00 -4.00000000e+00 -4.00000000e+00 -4.00000000e+00\n",
      " -3.84775907e+00 -3.84775907e+00 -3.56645450e+00 -3.56645450e+00\n",
      " -3.41421356e+00 -3.41421356e+00 -3.35115330e+00 -3.35115330e+00\n",
      " -3.23463314e+00 -3.23463314e+00 -2.91760780e+00 -2.91760780e+00\n",
      " -2.76536686e+00 -2.76536686e+00 -2.58578644e+00 -2.58578644e+00\n",
      " -2.46926627e+00 -2.15224093e+00 -2.15224093e+00 -2.00000000e+00\n",
      " -2.00000000e+00 -1.82041957e+00 -1.82041957e+00 -1.38687407e+00\n",
      " -1.38687407e+00 -1.23463314e+00 -1.23463314e+00 -1.17157288e+00\n",
      " -7.38027373e-01 -7.38027373e-01 -5.85786438e-01 -5.85786438e-01\n",
      " -3.04481870e-01 -1.52240935e-01 -1.52240935e-01 -1.51563416e-16]\n",
      "\n",
      "Eigenvectors (each column is one eigenvector):\n",
      "[[ 0.00951506 -0.02639454 -0.00022835 ...  0.22663514 -0.09358283\n",
      "  -0.125     ]\n",
      " [-0.02709659  0.06939418  0.00632241 ...  0.21650714 -0.06920769\n",
      "  -0.125     ]\n",
      " [ 0.04055292 -0.08789647 -0.02514764 ...  0.19779303 -0.0241683\n",
      "  -0.125     ]\n",
      " ...\n",
      " [ 0.04055292  0.08789647  0.02514764 ... -0.19779303  0.0241683\n",
      "  -0.125     ]\n",
      " [-0.02709659 -0.06939418 -0.00632241 ... -0.21650714  0.06920769\n",
      "  -0.125     ]\n",
      " [ 0.00951506  0.02639454  0.00022835 ... -0.22663514  0.09358283\n",
      "  -0.125     ]]\n"
     ]
    }
   ],
   "source": [
    "# Solve the eigenvalue problem\n",
    "eigenvalues, eigenvectors = eigh(L_rect)\n",
    "\n",
    "# Print the results\n",
    "print(\"Eigenvalues:\")\n",
    "print(eigenvalues)\n",
    "print(\"\\nEigenvectors (each column is one eigenvector):\")\n",
    "print(eigenvectors)"
   ]
  },
  {
   "cell_type": "code",
   "execution_count": 24,
   "metadata": {},
   "outputs": [
    {
     "name": "stdout",
     "output_type": "stream",
     "text": [
      "Eigenvalues:\n",
      "[-7.         -5.73205081 -5.73205081 -5.         -4.         -4.\n",
      " -4.         -4.         -3.         -2.26794919 -2.26794919 -1.        ]\n",
      "\n",
      "Eigenvectors (each column is one eigenvector):\n",
      "[[ 2.04124145e-01 -3.92125365e-01  1.13597380e-01 -3.53553391e-01\n",
      "   1.28788727e-02  5.73252627e-01  0.00000000e+00  6.74454847e-02\n",
      "  -3.53553391e-01 -3.95010006e-01 -1.03120134e-01 -2.04124145e-01]\n",
      " [-2.04124145e-01  2.82791838e-01 -2.94440899e-01  3.53553391e-01\n",
      "  -1.82171811e-01  6.65605084e-02 -1.17534039e-01 -5.30944642e-01\n",
      "  -3.53553391e-01 -2.90528633e-01 -2.86809658e-01 -2.04124145e-01]\n",
      " [ 2.04124145e-01 -2.94440899e-01 -2.82791838e-01  3.53553391e-01\n",
      "  -3.83747183e-01  4.25996959e-03  4.29743078e-01  3.70698256e-02\n",
      "   3.53553391e-01 -2.86809658e-01  2.90528633e-01 -2.04124145e-01]\n",
      " [-4.08248290e-01  3.96389217e-01  9.76844661e-02 -4.16333634e-16\n",
      "   1.82171811e-01 -6.65605084e-02  1.17534039e-01  5.30944642e-01\n",
      "   6.10622664e-16 -3.93648767e-01  1.08200348e-01 -4.08248290e-01]\n",
      " [ 4.08248290e-01 -9.76844661e-02  3.96389217e-01 -1.94289029e-15\n",
      "  -1.28788727e-02 -5.73252627e-01  2.77555756e-17 -6.74454847e-02\n",
      "  -1.11022302e-16 -1.08200348e-01 -3.93648767e-01 -4.08248290e-01]\n",
      " [-2.04124145e-01 -1.13597380e-01 -3.92125365e-01 -3.53553391e-01\n",
      "  -3.90792782e-01 -1.63190120e-02 -3.67205623e-01  2.13326171e-01\n",
      "   3.53553391e-01  1.03120134e-01 -3.95010006e-01 -2.04124145e-01]\n",
      " [-2.04124145e-01  1.13597380e-01  3.92125365e-01 -3.53553391e-01\n",
      "  -1.82171811e-01  6.65605084e-02 -1.17534039e-01 -5.30944642e-01\n",
      "   3.53553391e-01 -1.03120134e-01  3.95010006e-01 -2.04124145e-01]\n",
      " [ 4.08248290e-01  9.76844661e-02 -3.96389217e-01  4.99600361e-16\n",
      "   3.83747183e-01 -4.25996959e-03 -4.29743078e-01 -3.70698256e-02\n",
      "   1.11022302e-16  1.08200348e-01  3.93648767e-01 -4.08248290e-01]\n",
      " [-4.08248290e-01 -3.96389217e-01 -9.76844661e-02 -2.22044605e-16\n",
      "   3.90792782e-01  1.63190120e-02  3.67205623e-01 -2.13326171e-01\n",
      "  -1.33226763e-15  3.93648767e-01 -1.08200348e-01 -4.08248290e-01]\n",
      " [ 2.04124145e-01  2.94440899e-01  2.82791838e-01  3.53553391e-01\n",
      "   1.28788727e-02  5.73252627e-01  8.32667268e-17  6.74454847e-02\n",
      "   3.53553391e-01  2.86809658e-01 -2.90528633e-01 -2.04124145e-01]\n",
      " [-2.04124145e-01 -2.82791838e-01  2.94440899e-01  3.53553391e-01\n",
      "  -3.90792782e-01 -1.63190120e-02 -3.67205623e-01  2.13326171e-01\n",
      "  -3.53553391e-01  2.90528633e-01  2.86809658e-01 -2.04124145e-01]\n",
      " [ 2.04124145e-01  3.92125365e-01 -1.13597380e-01 -3.53553391e-01\n",
      "  -3.83747183e-01  4.25996959e-03  4.29743078e-01  3.70698256e-02\n",
      "  -3.53553391e-01  3.95010006e-01  1.03120134e-01 -2.04124145e-01]]\n"
     ]
    }
   ],
   "source": [
    "# Solve the eigenvalue problem\n",
    "eigenvalues, eigenvectors = eigh(L_circle)\n",
    "\n",
    "# Print the results\n",
    "print(\"Eigenvalues:\")\n",
    "print(eigenvalues)\n",
    "print(\"\\nEigenvectors (each column is one eigenvector):\")\n",
    "print(eigenvectors)"
   ]
  },
  {
   "cell_type": "markdown",
   "metadata": {},
   "source": [
    "In the provided code, eigh() from scipy.linalg was used to solve the eigenvalue problem for the Laplacian matrix representing the reflective boundary conditions. The choice of eigh() over other options like eig() or eigs() was made because eigh() is specifically designed to efficiently solve Hermitian eigenvalue problems for symmetric matrices.\n",
    "\n",
    "Since the Laplacian matrix representing the reflective boundary conditions is symmetric due to the nature of the problem, using eigh() is appropriate and efficient. This function is optimized for symmetric matrices, leading to faster computation times compared to other methods when dealing with such matrices. Therefore, eigh() was selected for its efficiency and suitability for the given problem."
   ]
  },
  {
   "cell_type": "code",
   "execution_count": 31,
   "metadata": {},
   "outputs": [],
   "source": [
    "\n",
    "# Function for plotting the eigenvectors\n",
    "def plot_eigenvectors(vals, vecs, title, shape, n, plot_number=4):\n",
    "    \"\"\"\n",
    "    Plot the first few eigenvectors for a given shape.\n",
    "\n",
    "    Args:\n",
    "        vals (array): Eigenvalues.\n",
    "        vecs (matrix): Eigenvectors.\n",
    "        title (str): Title for the plots.\n",
    "        shape (str): 'square', 'rectangle', or 'circle' to indicate the shape.\n",
    "        n (int): Grid size (number of points per side for square and circle, width for rectangle).\n",
    "        plot_number (int): Number of eigenvectors to plot.\n",
    "    \"\"\"\n",
    "    fig, axs = plt.subplots(1, plot_number, figsize=(15, 3))\n",
    "    fig.suptitle(title)\n",
    "    \n",
    "    for i in range(plot_number):\n",
    "        if shape == 'circle':\n",
    "            # Special handling for circle to only show the circular part\n",
    "            eigenvector = np.zeros((n, n))\n",
    "            idx = 0\n",
    "            for x in range(n):\n",
    "                for y in range(n):\n",
    "                    if (x - n/2)**2 + (y - n/2)**2 <= (n/2)**2:\n",
    "                        eigenvector[x, y] = vecs[idx, i]\n",
    "                        idx += 1\n",
    "        else:\n",
    "            eigenvector = vecs[:, i].reshape(n, -1) if shape == 'square' else vecs[:, i].reshape(-1, n)\n",
    "        \n",
    "        axs[i].imshow(eigenvector, cmap='viridis')\n",
    "        axs[i].set_title(f'λ = {vals[i]:.2f}')\n",
    "        axs[i].axis('off')\n",
    "    plt.show()"
   ]
  },
  {
   "cell_type": "code",
   "execution_count": 32,
   "metadata": {},
   "outputs": [
    {
     "data": {
      "image/png": "[encoded data removed]",
      "text/plain": [
       "<Figure size 1500x300 with 4 Axes>"
      ]
     },
     "metadata": {},
     "output_type": "display_data"
    },
    {
     "data": {
      "image/png": "[encoded data removed]",
      "text/plain": [
       "<Figure size 1500x300 with 4 Axes>"
      ]
     },
     "metadata": {},
     "output_type": "display_data"
    },
    {
     "data": {
      "image/png": "[encoded data removed]",
      "text/plain": [
       "<Figure size 1500x300 with 4 Axes>"
      ]
     },
     "metadata": {},
     "output_type": "display_data"
    }
   ],
   "source": [
    "# Plot the eigenvectors for each shape\n",
    "plot_eigenvectors(vals_square, vecs_square, 'Square Membrane Modes', 'square', n)\n",
    "plot_eigenvectors(vals_rect, vecs_rect, 'Rectangular Membrane Modes', 'rectangle', 2*n)\n",
    "plot_eigenvectors(vals_circle, vecs_circle, 'Circular Membrane Modes', 'circle', n)"
   ]
  },
  {
   "cell_type": "code",
   "execution_count": 34,
   "metadata": {},
   "outputs": [],
   "source": [
    "\n",
    "# Function for plotting the eigenvectors corresponding to the smallest eigenvalues\n",
    "def plot_eigenvectors(vals, vecs, title, shape, n, plot_number=4):\n",
    "    \"\"\"\n",
    "    Plot the first few eigenvectors for a given shape.\n",
    "\n",
    "    Args:\n",
    "        vals (array): Eigenvalues.\n",
    "        vecs (matrix): Eigenvectors.\n",
    "        title (str): Title for the plots.\n",
    "        shape (str): 'square', 'rectangle', or 'circle' to indicate the shape.\n",
    "        n (int): Grid size (number of points per side for square and circle, width for rectangle).\n",
    "        plot_number (int): Number of eigenvectors to plot.\n",
    "    \"\"\"\n",
    "    fig, axs = plt.subplots(1, plot_number, figsize=(15, 3))\n",
    "    fig.suptitle(title)\n",
    "\n",
    "    # Sort eigenvalues and corresponding eigenvectors\n",
    "    sorted_indices = np.argsort(vals)\n",
    "    sorted_eigenvalues = vals[sorted_indices]\n",
    "    sorted_eigenvectors = vecs[:, sorted_indices]\n",
    "    \n",
    "    # Plot eigenvectors corresponding to the smallest eigenvalues\n",
    "    for i in range(plot_number):\n",
    "        if shape == 'circle':\n",
    "            # Special handling for circle to only show the circular part\n",
    "            eigenvector = np.zeros((n, n))\n",
    "            idx = 0\n",
    "            for x in range(n):\n",
    "                for y in range(n):\n",
    "                    if (x - n/2)**2 + (y - n/2)**2 <= (n/2)**2:\n",
    "                        eigenvector[x, y] = sorted_eigenvectors[idx, i]\n",
    "                        idx += 1\n",
    "        else:\n",
    "            eigenvector = sorted_eigenvectors[:, i].reshape(n, -1) if shape == 'square' else sorted_eigenvectors[:, i].reshape(-1, n)\n",
    "        \n",
    "        axs[i].imshow(eigenvector, cmap='viridis')\n",
    "        axs[i].set_title(f'λ = {sorted_eigenvalues[i]:.2f}')\n",
    "        axs[i].axis('off')\n",
    "    plt.show()"
   ]
  },
  {
   "cell_type": "code",
   "execution_count": 35,
   "metadata": {},
   "outputs": [
    {
     "data": {
      "image/png": "[encoded data removed]",
      "text/plain": [
       "<Figure size 1500x300 with 4 Axes>"
      ]
     },
     "metadata": {},
     "output_type": "display_data"
    },
    {
     "data": {
      "image/png": "[encoded data removed]",
      "text/plain": [
       "<Figure size 1500x300 with 4 Axes>"
      ]
     },
     "metadata": {},
     "output_type": "display_data"
    },
    {
     "data": {
      "image/png": "[encoded data removed]",
      "text/plain": [
       "<Figure size 1500x300 with 4 Axes>"
      ]
     },
     "metadata": {},
     "output_type": "display_data"
    }
   ],
   "source": [
    "# Plot the eigenvectors for each shape\n",
    "plot_eigenvectors(vals_square, vecs_square, 'Square Membrane Modes', 'square', n)\n",
    "plot_eigenvectors(vals_rect, vecs_rect, 'Rectangular Membrane Modes', 'rectangle', 2*n)\n",
    "plot_eigenvectors(vals_circle, vecs_circle, 'Circular Membrane Modes', 'circle', n)"
   ]
  },
  {
   "cell_type": "code",
   "execution_count": null,
   "metadata": {},
   "outputs": [],
   "source": [
    "# Example usage\n",
    "n = 4 # Change this to create a different size grid\n",
    "L = create_reflective_laplacian(n)\n",
    "\n",
    "# Solve the eigenvalue problem\n",
    "eigenvalues, eigenvectors = eigh(L)\n",
    "\n",
    "# Sort eigenvalues and corresponding eigenvectors\n",
    "sorted_indices = np.argsort(eigenvalues)\n",
    "sorted_eigenvalues = eigenvalues[sorted_indices]\n",
    "sorted_eigenvectors = eigenvectors[:, sorted_indices]\n",
    "\n",
    "# Plot eigenvectors corresponding to the smallest eigenvalues\n",
    "num_eigenvectors_to_plot = 2  # Change this to plot more or fewer eigenvectors\n",
    "for i in range(num_eigenvectors_to_plot):\n",
    "    plt.plot(sorted_eigenvectors[:, i], label=f\"$\\lambda$: {sorted_eigenvalues[i]:.2f}\")\n",
    "\n",
    "plt.xlabel(\"Grid Point\")\n",
    "plt.ylabel(\"Amplitude\")\n",
    "plt.title(\"Eigenvectors for the Smallest Eigenvalues\")\n",
    "plt.legend()\n",
    "plt.show()"
   ]
  },
  {
   "cell_type": "code",
   "execution_count": 10,
   "metadata": {},
   "outputs": [
    {
     "name": "stdout",
     "output_type": "stream",
     "text": [
      "Eigenvalues using scipy.linalg.eig(): [-6.82842712e+00+0.j -5.41421356e+00+0.j  2.35704998e-15+0.j\n",
      " -1.17157288e+00+0.j -5.85786438e-01+0.j -5.85786438e-01+0.j\n",
      " -5.41421356e+00+0.j -2.00000000e+00+0.j -2.00000000e+00+0.j\n",
      " -2.58578644e+00+0.j -2.58578644e+00+0.j -3.41421356e+00+0.j\n",
      " -3.41421356e+00+0.j -4.00000000e+00+0.j -4.00000000e+00+0.j\n",
      " -4.00000000e+00+0.j]\n",
      "Computation time for scipy.linalg.eig(): 0.02118062973022461\n",
      "Eigenvalues using scipy.linalg.eigh(): [-6.82842712e+00 -5.41421356e+00 -5.41421356e+00 -4.00000000e+00\n",
      " -4.00000000e+00 -4.00000000e+00 -3.41421356e+00 -3.41421356e+00\n",
      " -2.58578644e+00 -2.58578644e+00 -2.00000000e+00 -2.00000000e+00\n",
      " -1.17157288e+00 -5.85786438e-01 -5.85786438e-01  9.23615238e-16]\n",
      "Computation time for scipy.linalg.eigh(): 0.0\n",
      "Eigenvalues using scipy.sparse.linalg.eigs(): [-4.0961563 +0.01895579j -4.0961563 -0.01895579j -4.08190042+0.05426314j\n",
      " -4.08190042-0.05426314j -4.05502872+0.08172297j -4.05502872-0.08172297j]\n",
      "Computation time for scipy.sparse.linalg.eigs(): 0.005555391311645508\n"
     ]
    }
   ],
   "source": [
    "# Example usage\n",
    "n = 4 # Change this to create a different size grid\n",
    "L = create_reflective_laplacian(n)\n",
    "\n",
    "# Solve the eigenvalue problem using scipy.linalg.eig()\n",
    "start_time = time.time()\n",
    "eigenvalues_eig, eigenvectors_eig = eig(L)\n",
    "end_time = time.time()\n",
    "eig_time = end_time - start_time\n",
    "\n",
    "# Solve the eigenvalue problem using scipy.linalg.eigh()\n",
    "start_time = time.time()\n",
    "eigenvalues_eigh, eigenvectors_eigh = eigh(L)\n",
    "end_time = time.time()\n",
    "eigh_time = end_time - start_time\n",
    "\n",
    "# Convert the Laplacian matrix to a sparse matrix\n",
    "L_sparse = diags([-4*np.ones(n*n), np.ones(n*n-1), np.ones(n*n-n)], [0, -1, -n]).toarray()\n",
    "\n",
    "# Solve the eigenvalue problem using scipy.sparse.linalg.eigs()\n",
    "start_time = time.time()\n",
    "eigenvalues_eigs, eigenvectors_eigs = eigs(L_sparse)\n",
    "end_time = time.time()\n",
    "eigs_time = end_time - start_time\n",
    "\n",
    "# Print the eigenvalues and computation times for comparison\n",
    "print(\"Eigenvalues using scipy.linalg.eig():\", eigenvalues_eig)\n",
    "print(\"Computation time for scipy.linalg.eig():\", eig_time)\n",
    "\n",
    "print(\"Eigenvalues using scipy.linalg.eigh():\", eigenvalues_eigh)\n",
    "print(\"Computation time for scipy.linalg.eigh():\", eigh_time)\n",
    "\n",
    "print(\"Eigenvalues using scipy.sparse.linalg.eigs():\", eigenvalues_eigs)\n",
    "print(\"Computation time for scipy.sparse.linalg.eigs():\", eigs_time)"
   ]
  },
  {
   "cell_type": "code",
   "execution_count": 36,
   "metadata": {},
   "outputs": [
    {
     "ename": "IndexError",
     "evalue": "list index out of range",
     "output_type": "error",
     "traceback": [
      "\u001b[1;31m---------------------------------------------------------------------------\u001b[0m",
      "\u001b[1;31mIndexError\u001b[0m                                Traceback (most recent call last)",
      "Cell \u001b[1;32mIn[36], line 46\u001b[0m\n\u001b[0;32m     44\u001b[0m     eigenvalues, _ \u001b[38;5;241m=\u001b[39m eigh(L)\n\u001b[0;32m     45\u001b[0m     \u001b[38;5;28;01mfor\u001b[39;00m i, freq \u001b[38;5;129;01min\u001b[39;00m \u001b[38;5;28menumerate\u001b[39m(eigenvalues):\n\u001b[1;32m---> 46\u001b[0m         eigenfrequencies[\u001b[43mshapes\u001b[49m\u001b[43m[\u001b[49m\u001b[43mi\u001b[49m\u001b[43m]\u001b[49m]\u001b[38;5;241m.\u001b[39mappend(freq)\n\u001b[0;32m     48\u001b[0m \u001b[38;5;66;03m# Plot eigenfrequencies for each shape as a function of L\u001b[39;00m\n\u001b[0;32m     49\u001b[0m \u001b[38;5;28;01mfor\u001b[39;00m shape \u001b[38;5;129;01min\u001b[39;00m shapes:\n",
      "\u001b[1;31mIndexError\u001b[0m: list index out of range"
     ]
    }
   ],
   "source": [
    "\n",
    "# # Square grid (already done)\n",
    "# L_square = create_reflective_laplacian(n)\n",
    "\n",
    "# # Rectangle grid\n",
    "# L_rect = create_reflective_laplacian(2 * n)  # Assuming 2n x n rectangle\n",
    "\n",
    "# # Circular grid\n",
    "# radius = L / 2  # Make sure L and n are defined\n",
    "# L_circle = create_circular_laplacian(n, radius * n / L)\n",
    "# try:\n",
    "#     vals_circle, vecs_circle = eigh(L_circle)\n",
    "#     # If successful, continue to plot or use the eigenvalues and vectors\n",
    "# except ValueError as e:\n",
    "#     print(f\"An error occurred: {e}\")\n",
    "\n",
    "# # Shapes to consider\n",
    "# shapes = [\"Square\", \"Rectangle\", \"Circle\"]\n",
    "\n",
    "# # Sizes of the shapes\n",
    "# sizes = np.linspace(1, 5, 20)  # Change the range and number of points as needed\n",
    "\n",
    "# # Eigenfrequencies for each shape and size\n",
    "# eigenfrequencies = {shape: [] for shape in shapes}\n",
    "\n",
    "# # Calculate eigenfrequencies for each size\n",
    "# for size in sizes:\n",
    "#     n = int(size)  # Convert size to integer for grid dimensions\n",
    "#     L = create_reflective_laplacian(n)\n",
    "#     eigenvalues, _ = eigh(L)\n",
    "#     for i, freq in enumerate(eigenvalues):\n",
    "#         eigenfrequencies[shapes[i]].append(freq)\n",
    "\n",
    "# # Plot eigenfrequencies for each shape as a function of L\n",
    "# for shape in shapes:\n",
    "#     plt.plot(sizes, eigenfrequencies[shape], label=shape)\n",
    "\n",
    "# plt.xlabel(\"Size (L)\")\n",
    "# plt.ylabel(\"Eigenfrequency\")\n",
    "# plt.title(\"Eigenfrequencies for Different Shapes and Sizes\")\n",
    "# plt.legend()\n",
    "# plt.show()\n"
   ]
  }
 ],
 "metadata": {
  "kernelspec": {
   "display_name": "Python 3",
   "language": "python",
   "name": "python3"
  },
  "language_info": {
   "codemirror_mode": {
    "name": "ipython",
    "version": 3
   },
   "file_extension": ".py",
   "mimetype": "text/x-python",
   "name": "python",
   "nbconvert_exporter": "python",
   "pygments_lexer": "ipython3",
   "version": "3.12.2"
  }
 },
 "nbformat": 4,
 "nbformat_minor": 2
}
